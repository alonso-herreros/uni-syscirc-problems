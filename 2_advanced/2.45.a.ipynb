{
 "cells": [
  {
   "cell_type": "code",
   "execution_count": 1,
   "metadata": {},
   "outputs": [],
   "source": [
    "from sympy import *"
   ]
  },
  {
   "cell_type": "code",
   "execution_count": 2,
   "metadata": {},
   "outputs": [],
   "source": [
    "t, tau, = symbols('t τ')"
   ]
  },
  {
   "cell_type": "code",
   "execution_count": 3,
   "metadata": {},
   "outputs": [],
   "source": [
    "x = Function(\"x\")\n",
    "h = Function(\"h\")"
   ]
  },
  {
   "cell_type": "code",
   "execution_count": 4,
   "metadata": {},
   "outputs": [
    {
     "data": {
      "text/latex": [
       "$\\displaystyle \\int\\limits_{-\\infty}^{\\infty} h{\\left(t - τ \\right)} x{\\left(τ \\right)}\\, dτ$"
      ],
      "text/plain": [
       "Integral(h(t - τ)*x(τ), (τ, -oo, oo))"
      ]
     },
     "execution_count": 4,
     "metadata": {},
     "output_type": "execute_result"
    }
   ],
   "source": [
    "y = integrate(x(tau)* h(t-tau), (tau, -oo, oo))\n",
    "y"
   ]
  },
  {
   "cell_type": "code",
   "execution_count": 5,
   "metadata": {},
   "outputs": [
    {
     "data": {
      "text/latex": [
       "$\\displaystyle \\int\\limits_{-\\infty}^{\\infty} h{\\left(t - τ \\right)} \\frac{d}{d τ} x{\\left(τ \\right)}\\, dτ$"
      ],
      "text/plain": [
       "Integral(h(t - τ)*Derivative(x(τ), τ), (τ, -oo, oo))"
      ]
     },
     "execution_count": 5,
     "metadata": {},
     "output_type": "execute_result"
    }
   ],
   "source": [
    "y_ = integrate(x(tau).diff(tau)* h(t-tau), (tau, -oo, oo))\n",
    "y_"
   ]
  },
  {
   "cell_type": "code",
   "execution_count": 6,
   "metadata": {},
   "outputs": [
    {
     "data": {
      "text/latex": [
       "$\\displaystyle \\int\\limits_{-\\infty}^{\\infty} x{\\left(τ \\right)} \\left. \\frac{d}{d \\xi_{1}} h{\\left(\\xi_{1} \\right)} \\right|_{\\substack{ \\xi_{1}=t - τ }}\\, dτ$"
      ],
      "text/plain": [
       "Integral(x(τ)*Subs(Derivative(h(_xi_1), _xi_1), _xi_1, t - τ), (τ, -oo, oo))"
      ]
     },
     "execution_count": 6,
     "metadata": {},
     "output_type": "execute_result"
    }
   ],
   "source": [
    "y.diff(t)"
   ]
  },
  {
   "cell_type": "code",
   "execution_count": 7,
   "metadata": {},
   "outputs": [
    {
     "data": {
      "text/latex": [
       "$\\displaystyle \\left. \\frac{d}{d \\xi_{1}} x{\\left(\\xi_{1} \\right)} \\right|_{\\substack{ \\xi_{1}=t - τ }}$"
      ],
      "text/plain": [
       "Subs(Derivative(x(_xi_1), _xi_1), _xi_1, t - τ)"
      ]
     },
     "execution_count": 7,
     "metadata": {},
     "output_type": "execute_result"
    }
   ],
   "source": [
    "x(t-tau).diff(t)"
   ]
  }
 ],
 "metadata": {
  "kernelspec": {
   "display_name": "Python 3",
   "language": "python",
   "name": "python3"
  },
  "language_info": {
   "codemirror_mode": {
    "name": "ipython",
    "version": 3
   },
   "file_extension": ".py",
   "mimetype": "text/x-python",
   "name": "python",
   "nbconvert_exporter": "python",
   "pygments_lexer": "ipython3",
   "version": "3.10.10"
  },
  "orig_nbformat": 4
 },
 "nbformat": 4,
 "nbformat_minor": 2
}
