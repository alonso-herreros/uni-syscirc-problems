{
 "cells": [
  {
   "cell_type": "code",
   "execution_count": 1,
   "metadata": {},
   "outputs": [],
   "source": [
    "from sympy import *"
   ]
  },
  {
   "cell_type": "code",
   "execution_count": 2,
   "metadata": {},
   "outputs": [],
   "source": [
    "def eq_op(eq, op):\n",
    "    return Eq(op(eq.lhs), op(eq.rhs))"
   ]
  },
  {
   "cell_type": "code",
   "execution_count": 3,
   "metadata": {},
   "outputs": [],
   "source": [
    "t = Symbol('t')\n",
    "y = Function('y')(t)"
   ]
  },
  {
   "attachments": {},
   "cell_type": "markdown",
   "metadata": {},
   "source": [
    "## Original problem + custom solution"
   ]
  },
  {
   "cell_type": "code",
   "execution_count": 4,
   "metadata": {},
   "outputs": [
    {
     "data": {
      "text/latex": [
       "$\\displaystyle 2 e^{- 3 t} \\theta\\left(t - 1\\right)$"
      ],
      "text/plain": [
       "2*exp(-3*t)*Heaviside(t - 1)"
      ]
     },
     "execution_count": 4,
     "metadata": {},
     "output_type": "execute_result"
    }
   ],
   "source": [
    "x = 2*exp(-3*t)*Heaviside(t-1)\n",
    "x"
   ]
  },
  {
   "cell_type": "code",
   "execution_count": 5,
   "metadata": {},
   "outputs": [
    {
     "data": {
      "text/latex": [
       "$\\displaystyle - 3 y{\\left(t \\right)} + e^{- 2 t} \\theta\\left(t\\right)$"
      ],
      "text/plain": [
       "-3*y(t) + exp(-2*t)*Heaviside(t)"
      ]
     },
     "execution_count": 5,
     "metadata": {},
     "output_type": "execute_result"
    }
   ],
   "source": [
    "y_ = -3*y + exp(-2*t)*Heaviside(t)\n",
    "y_"
   ]
  },
  {
   "cell_type": "code",
   "execution_count": 6,
   "metadata": {},
   "outputs": [
    {
     "data": {
      "text/latex": [
       "$\\displaystyle - 3 x + 2 e^{- 3 t} \\delta\\left(t - 1\\right)$"
      ],
      "text/plain": [
       "-3*x + 2*exp(-3*t)*DiracDelta(t - 1)"
      ]
     },
     "execution_count": 6,
     "metadata": {},
     "output_type": "execute_result"
    }
   ],
   "source": [
    "x_ = x.diff(t).subs(2*exp(-3*t)*Heaviside(t-1), Symbol(\"x\"))\n",
    "x_"
   ]
  },
  {
   "cell_type": "code",
   "execution_count": 7,
   "metadata": {},
   "outputs": [
    {
     "data": {
      "text/latex": [
       "$\\displaystyle 2 h{\\left(t - 1 \\right)} e^{- 3 t} - 3 y{\\left(t \\right)} = - 3 y{\\left(t \\right)} + e^{- 2 t} \\theta\\left(t\\right)$"
      ],
      "text/plain": [
       "Eq(2*h(t - 1)*exp(-3*t) - 3*y(t), -3*y(t) + exp(-2*t)*Heaviside(t))"
      ]
     },
     "execution_count": 7,
     "metadata": {},
     "output_type": "execute_result"
    }
   ],
   "source": [
    "eq = Eq(x_.subs(Symbol(\"x\"), y).subs(DiracDelta, Function(\"h\")), y_)\n",
    "eq"
   ]
  },
  {
   "cell_type": "code",
   "execution_count": 8,
   "metadata": {},
   "outputs": [
    {
     "data": {
      "text/latex": [
       "$\\displaystyle 2 h{\\left(t - 1 \\right)} e^{- 3 t} = e^{- 2 t} \\theta\\left(t\\right)$"
      ],
      "text/plain": [
       "Eq(2*h(t - 1)*exp(-3*t), exp(-2*t)*Heaviside(t))"
      ]
     },
     "execution_count": 8,
     "metadata": {},
     "output_type": "execute_result"
    }
   ],
   "source": [
    "eq = eq_op(eq, lambda s: s+3*y)\n",
    "eq"
   ]
  },
  {
   "cell_type": "code",
   "execution_count": 9,
   "metadata": {},
   "outputs": [
    {
     "data": {
      "text/latex": [
       "$\\displaystyle h{\\left(t - 1 \\right)} = \\frac{e^{t} \\theta\\left(t\\right)}{2}$"
      ],
      "text/plain": [
       "Eq(h(t - 1), exp(t)*Heaviside(t)/2)"
      ]
     },
     "execution_count": 9,
     "metadata": {},
     "output_type": "execute_result"
    }
   ],
   "source": [
    "eq = eq_op(eq, lambda s: s/(2*exp(-3*t)))\n",
    "eq"
   ]
  },
  {
   "cell_type": "code",
   "execution_count": 10,
   "metadata": {},
   "outputs": [
    {
     "data": {
      "text/latex": [
       "$\\displaystyle h{\\left(t \\right)} = \\frac{e^{t + 1} \\theta\\left(t + 1\\right)}{2}$"
      ],
      "text/plain": [
       "Eq(h(t), exp(t + 1)*Heaviside(t + 1)/2)"
      ]
     },
     "execution_count": 10,
     "metadata": {},
     "output_type": "execute_result"
    }
   ],
   "source": [
    "eq.subs(t, t+1)"
   ]
  },
  {
   "attachments": {},
   "cell_type": "markdown",
   "metadata": {},
   "source": [
    "## Substituting t values when multiplied by a delta function"
   ]
  },
  {
   "cell_type": "code",
   "execution_count": 11,
   "metadata": {},
   "outputs": [
    {
     "data": {
      "text/latex": [
       "$\\displaystyle - 3 x + \\frac{2 \\delta\\left(t - 1\\right)}{e^{3}}$"
      ],
      "text/plain": [
       "-3*x + 2*exp(-3)*DiracDelta(t - 1)"
      ]
     },
     "execution_count": 11,
     "metadata": {},
     "output_type": "execute_result"
    }
   ],
   "source": [
    "x_simp = -3*x + 2*exp(-3)*DiracDelta(t-1)\n",
    "x_simp = x_simp.subs(2*exp(-3*t)*Heaviside(t-1), Symbol(\"x\"))\n",
    "x_simp"
   ]
  },
  {
   "cell_type": "code",
   "execution_count": 12,
   "metadata": {},
   "outputs": [
    {
     "data": {
      "text/latex": [
       "$\\displaystyle \\frac{2 h{\\left(t - 1 \\right)}}{e^{3}} - 3 y{\\left(t \\right)} = - 3 y{\\left(t \\right)} + e^{- 2 t} \\theta\\left(t\\right)$"
      ],
      "text/plain": [
       "Eq(2*h(t - 1)*exp(-3) - 3*y(t), -3*y(t) + exp(-2*t)*Heaviside(t))"
      ]
     },
     "execution_count": 12,
     "metadata": {},
     "output_type": "execute_result"
    }
   ],
   "source": [
    "eq = Eq(x_simp.subs(Symbol(\"x\"), y).subs(DiracDelta, Function(\"h\")), y_)\n",
    "eq"
   ]
  },
  {
   "cell_type": "code",
   "execution_count": 13,
   "metadata": {},
   "outputs": [
    {
     "data": {
      "text/latex": [
       "$\\displaystyle \\frac{2 h{\\left(t - 1 \\right)}}{e^{3}} = e^{- 2 t} \\theta\\left(t\\right)$"
      ],
      "text/plain": [
       "Eq(2*h(t - 1)*exp(-3), exp(-2*t)*Heaviside(t))"
      ]
     },
     "execution_count": 13,
     "metadata": {},
     "output_type": "execute_result"
    }
   ],
   "source": [
    "eq = eq_op(eq, lambda s: s+3*y)\n",
    "eq"
   ]
  },
  {
   "cell_type": "code",
   "execution_count": 14,
   "metadata": {},
   "outputs": [
    {
     "data": {
      "text/latex": [
       "$\\displaystyle h{\\left(t - 1 \\right)} = \\frac{e^{3} e^{- 2 t} \\theta\\left(t\\right)}{2}$"
      ],
      "text/plain": [
       "Eq(h(t - 1), exp(3)*exp(-2*t)*Heaviside(t)/2)"
      ]
     },
     "execution_count": 14,
     "metadata": {},
     "output_type": "execute_result"
    }
   ],
   "source": [
    "eq = eq_op(eq, lambda s: s/(2*exp(-3)))\n",
    "eq"
   ]
  },
  {
   "cell_type": "code",
   "execution_count": 15,
   "metadata": {},
   "outputs": [
    {
     "data": {
      "text/latex": [
       "$\\displaystyle h{\\left(t \\right)} = \\frac{e^{1 - 2 t} \\theta\\left(t + 1\\right)}{2}$"
      ],
      "text/plain": [
       "Eq(h(t), exp(1 - 2*t)*Heaviside(t + 1)/2)"
      ]
     },
     "execution_count": 15,
     "metadata": {},
     "output_type": "execute_result"
    }
   ],
   "source": [
    "eq = eq.subs(t, t+1).simplify()\n",
    "eq"
   ]
  },
  {
   "cell_type": "code",
   "execution_count": 16,
   "metadata": {},
   "outputs": [
    {
     "data": {
      "text/latex": [
       "$\\displaystyle - 3 x + 2 \\delta\\left(t - 1\\right)$"
      ],
      "text/plain": [
       "-3*x + 2*DiracDelta(t - 1)"
      ]
     },
     "execution_count": 16,
     "metadata": {},
     "output_type": "execute_result"
    }
   ],
   "source": [
    "x_proposed = -3*x + 2*DiracDelta(t-1)\n",
    "x_proposed.subs(2*exp(-3*t)*Heaviside(t-1), Symbol(\"x\"))"
   ]
  }
 ],
 "metadata": {
  "kernelspec": {
   "display_name": "Python 3",
   "language": "python",
   "name": "python3"
  },
  "language_info": {
   "codemirror_mode": {
    "name": "ipython",
    "version": 3
   },
   "file_extension": ".py",
   "mimetype": "text/x-python",
   "name": "python",
   "nbconvert_exporter": "python",
   "pygments_lexer": "ipython3",
   "version": "3.10.10"
  },
  "orig_nbformat": 4
 },
 "nbformat": 4,
 "nbformat_minor": 2
}
