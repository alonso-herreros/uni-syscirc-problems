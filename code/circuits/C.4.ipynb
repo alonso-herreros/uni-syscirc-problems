{
 "cells": [
  {
   "cell_type": "code",
   "execution_count": 3,
   "metadata": {},
   "outputs": [],
   "source": [
    "from sympy import *\n",
    "from syscirc.plot import plotcont"
   ]
  },
  {
   "cell_type": "code",
   "execution_count": 4,
   "metadata": {},
   "outputs": [],
   "source": [
    "t = Symbol(\"t\", real = true)"
   ]
  },
  {
   "cell_type": "code",
   "execution_count": 5,
   "metadata": {},
   "outputs": [],
   "source": [
    "V_i = Symbol(\"V_e\") #5*sin(2*pi*t)-2*cos(2*pi*t)"
   ]
  },
  {
   "cell_type": "code",
   "execution_count": 6,
   "metadata": {},
   "outputs": [],
   "source": [
    "Z_R, Z_L, Z_C = symbols(\"Z_R Z_L Z_C\") #1, 1j*2*pi, 1/(1j*2*pi)"
   ]
  },
  {
   "cell_type": "code",
   "execution_count": 7,
   "metadata": {},
   "outputs": [],
   "source": [
    "i = Symbol(\"i\")\n",
    "V_loop1 = Z_R*i + Z_L*i + Z_C*i - V_i"
   ]
  },
  {
   "cell_type": "code",
   "execution_count": 8,
   "metadata": {},
   "outputs": [
    {
     "data": {
      "text/latex": [
       "$\\displaystyle i \\left(Z_{C} + Z_{L} + Z_{R}\\right)$"
      ],
      "text/plain": [
       "i*(Z_C + Z_L + Z_R)"
      ]
     },
     "execution_count": 8,
     "metadata": {},
     "output_type": "execute_result"
    }
   ],
   "source": [
    "V_loop1.simplify()\n",
    "solve(V_loop1, V_i)[0]"
   ]
  },
  {
   "cell_type": "code",
   "execution_count": 9,
   "metadata": {},
   "outputs": [
    {
     "data": {
      "text/latex": [
       "$\\displaystyle \\frac{V_{e}}{Z_{C} + Z_{L} + Z_{R}}$"
      ],
      "text/plain": [
       "V_e/(Z_C + Z_L + Z_R)"
      ]
     },
     "execution_count": 9,
     "metadata": {},
     "output_type": "execute_result"
    }
   ],
   "source": [
    "solve(V_loop1, i)[0]"
   ]
  },
  {
   "cell_type": "code",
   "execution_count": 10,
   "metadata": {},
   "outputs": [
    {
     "data": {
      "text/latex": [
       "$\\displaystyle \\frac{V_{e} Z_{C}}{Z_{C} + Z_{L} + Z_{R}}$"
      ],
      "text/plain": [
       "V_e*Z_C/(Z_C + Z_L + Z_R)"
      ]
     },
     "execution_count": 10,
     "metadata": {},
     "output_type": "execute_result"
    }
   ],
   "source": [
    "V_C = solve(V_loop1, i)[0]*Z_C\n",
    "V_C"
   ]
  },
  {
   "cell_type": "code",
   "execution_count": 11,
   "metadata": {},
   "outputs": [
    {
     "data": {
      "text/latex": [
       "$\\displaystyle 5 \\sin{\\left(2 \\pi t \\right)} - 2 \\cos{\\left(2 \\pi t \\right)}$"
      ],
      "text/plain": [
       "5*sin(2*pi*t) - 2*cos(2*pi*t)"
      ]
     },
     "execution_count": 11,
     "metadata": {},
     "output_type": "execute_result"
    }
   ],
   "source": [
    "V_i = 5*sin(2*pi*t)-2*cos(2*pi*t)\n",
    "V_i"
   ]
  },
  {
   "cell_type": "code",
   "execution_count": 12,
   "metadata": {},
   "outputs": [
    {
     "data": {
      "text/latex": [
       "$\\displaystyle \\frac{0.5 \\operatorname{im}{\\left(\\frac{V_{e}}{1 - \\frac{0.5 i}{\\pi} + 2.0 i \\pi}\\right)}}{\\pi}$"
      ],
      "text/plain": [
       "0.5*im(V_e/(1 - 0.5*I/pi + 2.0*I*pi))/pi"
      ]
     },
     "execution_count": 12,
     "metadata": {},
     "output_type": "execute_result"
    }
   ],
   "source": [
    "V_C = V_C.subs({Z_R:1, Z_L:1j*2*pi, Z_C:1/(1j*2*pi)})\n",
    "V_C = re(V_C)\n",
    "V_C"
   ]
  },
  {
   "cell_type": "code",
   "execution_count": 13,
   "metadata": {},
   "outputs": [
    {
     "ename": "TypeError",
     "evalue": "Could not evaluate 0.5*im(V_e/(1 - 0.5*I/pi + 2.0*I*pi))/pi to float. Stopped resolving at 0.5*im(V_e/(1 - 0.5*I/pi + 2.0*I*pi))/pi",
     "output_type": "error",
     "traceback": [
      "\u001b[1;31m---------------------------------------------------------------------------\u001b[0m",
      "\u001b[1;31mTypeError\u001b[0m                                 Traceback (most recent call last)",
      "File \u001b[1;32m~\\Projects\\Systems and Circuits\\Signals_and_Systems_problems\\code\\custom_libs\\syscirc\\syscirc\\symbolics.py:78\u001b[0m, in \u001b[0;36mevaluate_on_range\u001b[1;34m(f, time, var, **kwargs)\u001b[0m\n\u001b[0;32m     76\u001b[0m     \u001b[39mexcept\u001b[39;00m (\u001b[39mTypeError\u001b[39;00m, \u001b[39mAttributeError\u001b[39;00m): \u001b[39mpass\u001b[39;00m\n\u001b[1;32m---> 78\u001b[0m \u001b[39mtry\u001b[39;00m: val \u001b[39m=\u001b[39m \u001b[39mfloat\u001b[39;49m(Known\u001b[39m.\u001b[39;49mresolve(val, levels\u001b[39m=\u001b[39;49m\u001b[39m-\u001b[39;49m\u001b[39m1\u001b[39;49m, evalf\u001b[39m=\u001b[39;49m\u001b[39mTrue\u001b[39;49;00m))\n\u001b[0;32m     79\u001b[0m \u001b[39mexcept\u001b[39;00m \u001b[39mTypeError\u001b[39;00m \u001b[39mas\u001b[39;00m e:  \u001b[39mraise\u001b[39;00m \u001b[39mTypeError\u001b[39;00m(\u001b[39mf\u001b[39m\u001b[39m\"\u001b[39m\u001b[39mCould not evaluate \u001b[39m\u001b[39m{\u001b[39;00mval\u001b[39m}\u001b[39;00m\u001b[39m to float. Stopped resolving at \u001b[39m\u001b[39m{\u001b[39;00mKnown\u001b[39m.\u001b[39mresolve(val,\u001b[39m \u001b[39mlevels\u001b[39m=\u001b[39m\u001b[39m-\u001b[39m\u001b[39m1\u001b[39m,\u001b[39m \u001b[39mevalf\u001b[39m=\u001b[39m\u001b[39mTrue\u001b[39;00m)\u001b[39m}\u001b[39;00m\u001b[39m\"\u001b[39m) \u001b[39mfrom\u001b[39;00m \u001b[39me\u001b[39;00m\n",
      "File \u001b[1;32m~\\AppData\\Roaming\\Python\\Python310\\site-packages\\sympy\\core\\expr.py:351\u001b[0m, in \u001b[0;36mExpr.__float__\u001b[1;34m(self)\u001b[0m\n\u001b[0;32m    350\u001b[0m     \u001b[39mraise\u001b[39;00m \u001b[39mTypeError\u001b[39;00m(\u001b[39m\"\u001b[39m\u001b[39mCannot convert complex to float\u001b[39m\u001b[39m\"\u001b[39m)\n\u001b[1;32m--> 351\u001b[0m \u001b[39mraise\u001b[39;00m \u001b[39mTypeError\u001b[39;00m(\u001b[39m\"\u001b[39m\u001b[39mCannot convert expression to float\u001b[39m\u001b[39m\"\u001b[39m)\n",
      "\u001b[1;31mTypeError\u001b[0m: Cannot convert expression to float",
      "\nThe above exception was the direct cause of the following exception:\n",
      "\u001b[1;31mTypeError\u001b[0m                                 Traceback (most recent call last)",
      "Cell \u001b[1;32mIn[13], line 1\u001b[0m\n\u001b[1;32m----> 1\u001b[0m plotcont([V_i, V_C], [\u001b[39m0\u001b[39;49m, \u001b[39m2\u001b[39;49m], \u001b[39m0.01\u001b[39;49m, \u001b[39mvars\u001b[39;49m\u001b[39m=\u001b[39;49m[t, t], V_i \u001b[39m=\u001b[39;49m \u001b[39m5\u001b[39;49m\u001b[39m*\u001b[39;49msin(\u001b[39m2\u001b[39;49m\u001b[39m*\u001b[39;49mpi\u001b[39m*\u001b[39;49mt)\u001b[39m-\u001b[39;49m\u001b[39m2\u001b[39;49m\u001b[39m*\u001b[39;49mcos(\u001b[39m2\u001b[39;49m\u001b[39m*\u001b[39;49mpi\u001b[39m*\u001b[39;49mt))\n",
      "File \u001b[1;32m~\\Projects\\Systems and Circuits\\Signals_and_Systems_problems\\code\\custom_libs\\syscirc\\syscirc\\plot.py:57\u001b[0m, in \u001b[0;36mplotcont\u001b[1;34m(funcs, T, timestep, vars, nsamples, **kwargs)\u001b[0m\n\u001b[0;32m     54\u001b[0m \u001b[39mif\u001b[39;00m \u001b[39mnot\u001b[39;00m \u001b[39misinstance\u001b[39m(\u001b[39mvars\u001b[39m, \u001b[39mlist\u001b[39m): \u001b[39mvars\u001b[39m \u001b[39m=\u001b[39m [\u001b[39mvars\u001b[39m]\n\u001b[0;32m     56\u001b[0m \u001b[39mfor\u001b[39;00m i \u001b[39min\u001b[39;00m \u001b[39mrange\u001b[39m(\u001b[39mlen\u001b[39m(funcs)):\n\u001b[1;32m---> 57\u001b[0m     _plotcont_single(funcs[i], time, var\u001b[39m=\u001b[39m\u001b[39mvars\u001b[39m[i] \u001b[39mif\u001b[39;00m i\u001b[39m<\u001b[39m\u001b[39mlen\u001b[39m(\u001b[39mvars\u001b[39m) \u001b[39melse\u001b[39;00m \u001b[39mvars\u001b[39m[\u001b[39m0\u001b[39m], \u001b[39m*\u001b[39m\u001b[39m*\u001b[39mkwargs)\n\u001b[0;32m     59\u001b[0m plt\u001b[39m.\u001b[39mshow()\n",
      "File \u001b[1;32m~\\Projects\\Systems and Circuits\\Signals_and_Systems_problems\\code\\custom_libs\\syscirc\\syscirc\\plot.py:64\u001b[0m, in \u001b[0;36m_plotcont_single\u001b[1;34m(f, time, var, **kwargs)\u001b[0m\n\u001b[0;32m     62\u001b[0m \u001b[39mdef\u001b[39;00m \u001b[39m_plotcont_single\u001b[39m(f:callable, time:\u001b[39mlist\u001b[39m[\u001b[39mfloat\u001b[39m], var:Symbol, \u001b[39m*\u001b[39m\u001b[39m*\u001b[39mkwargs):\n\u001b[1;32m---> 64\u001b[0m     values \u001b[39m=\u001b[39m evaluate_on_range(f, time, var\u001b[39m=\u001b[39mvar, \u001b[39m*\u001b[39m\u001b[39m*\u001b[39mkwargs)\n\u001b[0;32m     66\u001b[0m     \u001b[39mtry\u001b[39;00m:\n\u001b[0;32m     67\u001b[0m         plt\u001b[39m.\u001b[39mplot(time, values)\n",
      "File \u001b[1;32m~\\Projects\\Systems and Circuits\\Signals_and_Systems_problems\\code\\custom_libs\\syscirc\\syscirc\\symbolics.py:79\u001b[0m, in \u001b[0;36mevaluate_on_range\u001b[1;34m(f, time, var, **kwargs)\u001b[0m\n\u001b[0;32m     76\u001b[0m         \u001b[39mexcept\u001b[39;00m (\u001b[39mTypeError\u001b[39;00m, \u001b[39mAttributeError\u001b[39;00m): \u001b[39mpass\u001b[39;00m\n\u001b[0;32m     78\u001b[0m     \u001b[39mtry\u001b[39;00m: val \u001b[39m=\u001b[39m \u001b[39mfloat\u001b[39m(Known\u001b[39m.\u001b[39mresolve(val, levels\u001b[39m=\u001b[39m\u001b[39m-\u001b[39m\u001b[39m1\u001b[39m, evalf\u001b[39m=\u001b[39m\u001b[39mTrue\u001b[39;00m))\n\u001b[1;32m---> 79\u001b[0m     \u001b[39mexcept\u001b[39;00m \u001b[39mTypeError\u001b[39;00m \u001b[39mas\u001b[39;00m e:  \u001b[39mraise\u001b[39;00m \u001b[39mTypeError\u001b[39;00m(\u001b[39mf\u001b[39m\u001b[39m\"\u001b[39m\u001b[39mCould not evaluate \u001b[39m\u001b[39m{\u001b[39;00mval\u001b[39m}\u001b[39;00m\u001b[39m to float. Stopped resolving at \u001b[39m\u001b[39m{\u001b[39;00mKnown\u001b[39m.\u001b[39mresolve(val,\u001b[39m \u001b[39mlevels\u001b[39m=\u001b[39m\u001b[39m-\u001b[39m\u001b[39m1\u001b[39m,\u001b[39m \u001b[39mevalf\u001b[39m=\u001b[39m\u001b[39mTrue\u001b[39;00m)\u001b[39m}\u001b[39;00m\u001b[39m\"\u001b[39m) \u001b[39mfrom\u001b[39;00m \u001b[39me\u001b[39;00m\n\u001b[0;32m     82\u001b[0m     values\u001b[39m.\u001b[39mappend(val \u001b[39mif\u001b[39;00m val \u001b[39mis\u001b[39;00m \u001b[39mnot\u001b[39;00m \u001b[39mNone\u001b[39;00m \u001b[39mand\u001b[39;00m val \u001b[39m!=\u001b[39m nan \u001b[39melse\u001b[39;00m \u001b[39m0\u001b[39m)\n\u001b[0;32m     83\u001b[0m \u001b[39mreturn\u001b[39;00m values\n",
      "\u001b[1;31mTypeError\u001b[0m: Could not evaluate 0.5*im(V_e/(1 - 0.5*I/pi + 2.0*I*pi))/pi to float. Stopped resolving at 0.5*im(V_e/(1 - 0.5*I/pi + 2.0*I*pi))/pi"
     ]
    },
    {
     "data": {
      "image/png": "[encoded data removed]",
      "text/plain": [
       "<Figure size 640x480 with 1 Axes>"
      ]
     },
     "metadata": {},
     "output_type": "display_data"
    }
   ],
   "source": [
    "plotcont([V_i, V_C], [0, 2], 0.01, vars=[t, t], V_i = 5*sin(2*pi*t)-2*cos(2*pi*t))"
   ]
  }
 ],
 "metadata": {
  "kernelspec": {
   "display_name": "Python 3",
   "language": "python",
   "name": "python3"
  },
  "language_info": {
   "codemirror_mode": {
    "name": "ipython",
    "version": 3
   },
   "file_extension": ".py",
   "mimetype": "text/x-python",
   "name": "python",
   "nbconvert_exporter": "python",
   "pygments_lexer": "ipython3",
   "version": "3.10.10"
  },
  "orig_nbformat": 4
 },
 "nbformat": 4,
 "nbformat_minor": 2
}
