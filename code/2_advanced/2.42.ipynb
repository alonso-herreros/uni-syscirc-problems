{
 "cells": [
  {
   "cell_type": "code",
   "execution_count": 1,
   "metadata": {},
   "outputs": [],
   "source": [
    "from sympy import *\n",
    "from syscirc.funcs import u"
   ]
  },
  {
   "cell_type": "code",
   "execution_count": 2,
   "metadata": {},
   "outputs": [],
   "source": [
    "w, t, tau = symbols('w t τ', real=True)"
   ]
  },
  {
   "cell_type": "code",
   "execution_count": 3,
   "metadata": {},
   "outputs": [],
   "source": [
    "x = u(t+0.5) - u(t-0.5)"
   ]
  },
  {
   "cell_type": "code",
   "execution_count": 4,
   "metadata": {},
   "outputs": [
    {
     "data": {
      "text/latex": [
       "$\\displaystyle e^{1.0 i t w}$"
      ],
      "text/plain": [
       "exp(1.0*I*t*w)"
      ]
     },
     "execution_count": 4,
     "metadata": {},
     "output_type": "execute_result"
    }
   ],
   "source": [
    "exp(1j*w*t)"
   ]
  },
  {
   "cell_type": "code",
   "execution_count": 5,
   "metadata": {},
   "outputs": [
    {
     "data": {
      "text/latex": [
       "$\\displaystyle 0$"
      ],
      "text/plain": [
       "0"
      ]
     },
     "execution_count": 5,
     "metadata": {},
     "output_type": "execute_result"
    }
   ],
   "source": [
    "simplify(exp(1j*w*(t-tau)) - exp(1j*w*t)*exp(-1j*w*tau))"
   ]
  },
  {
   "cell_type": "code",
   "execution_count": 6,
   "metadata": {},
   "outputs": [
    {
     "data": {
      "text/latex": [
       "$\\displaystyle \\begin{cases} \\frac{2.0 e^{1.0 i t w} \\sin{\\left(0.5 w \\right)}}{w} & \\text{for}\\: w > 0 \\vee w < 0 \\\\1.0 e^{1.0 i t w} & \\text{otherwise} \\end{cases}$"
      ],
      "text/plain": [
       "Piecewise((2.0*exp(1.0*I*t*w)*sin(0.5*w)/w, (w > 0) | (w < 0)), (1.0*exp(1.0*I*t*w), True))"
      ]
     },
     "execution_count": 6,
     "metadata": {},
     "output_type": "execute_result"
    }
   ],
   "source": [
    "y = exp(1j*w*t)*integrate(exp(-1j*w*tau), (tau, -0.5, 0.5))\n",
    "y.simplify()"
   ]
  },
  {
   "cell_type": "code",
   "execution_count": 7,
   "metadata": {},
   "outputs": [
    {
     "data": {
      "text/latex": [
       "$\\displaystyle \\begin{cases} \\frac{2.0 \\sin{\\left(0.5 w \\right)}}{w} & \\text{for}\\: w > 0 \\vee w < 0 \\\\1.0 & \\text{otherwise} \\end{cases} = 0$"
      ],
      "text/plain": [
       "Eq(Piecewise((2.0*sin(0.5*w)/w, (w > 0) | (w < 0)), (1.0, True)), 0)"
      ]
     },
     "execution_count": 7,
     "metadata": {},
     "output_type": "execute_result"
    }
   ],
   "source": [
    "y_0 = y.subs(t, 0).simplify()\n",
    "Eq(y_0, 0)"
   ]
  },
  {
   "cell_type": "code",
   "execution_count": 8,
   "metadata": {},
   "outputs": [
    {
     "data": {
      "text/plain": [
       "[6.28318530717959]"
      ]
     },
     "execution_count": 8,
     "metadata": {},
     "output_type": "execute_result"
    }
   ],
   "source": [
    "solve(Eq(y_0, 0), w)"
   ]
  }
 ],
 "metadata": {
  "kernelspec": {
   "display_name": "Python 3",
   "language": "python",
   "name": "python3"
  },
  "language_info": {
   "codemirror_mode": {
    "name": "ipython",
    "version": 3
   },
   "file_extension": ".py",
   "mimetype": "text/x-python",
   "name": "python",
   "nbconvert_exporter": "python",
   "pygments_lexer": "ipython3",
   "version": "3.10.10"
  },
  "orig_nbformat": 4
 },
 "nbformat": 4,
 "nbformat_minor": 2
}
